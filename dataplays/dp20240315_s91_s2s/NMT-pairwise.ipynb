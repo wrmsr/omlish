{
 "cells": [
  {
   "cell_type": "markdown",
   "metadata": {},
   "source": [
    "### An LSTM encoder-decoder based implementation of Neural Machine Translation on German-English dataset\n",
    "(https://arxiv.org/pdf/1406.1078.pdf)"
   ]
  },
  {
   "cell_type": "code",
   "execution_count": 1,
   "metadata": {},
   "outputs": [
    {
     "name": "stderr",
     "output_type": "stream",
     "text": [
      "Using TensorFlow backend.\n"
     ]
    }
   ],
   "source": [
    "import pandas as pd\n",
    "from sklearn.metrics import mean_squared_error\n",
    "import numpy as np\n",
    "np.set_printoptions(precision=2)\n",
    "import ipywidgets as widgets\n",
    "from IPython.display import clear_output\n",
    "\n",
    "from sklearn.model_selection import train_test_split\n",
    "\n",
    "import tensorflow as tf\n",
    "from tensorflow import keras\n",
    "from tensorflow.keras import layers\n",
    "import keras.backend as K\n",
    "from keras.preprocessing.text import Tokenizer\n",
    "from keras.preprocessing.sequence import pad_sequences\n",
    "from keras.utils import to_categorical\n",
    "from keras.utils.vis_utils import plot_model\n",
    "from keras.models import Sequential\n",
    "from keras.layers import LSTM\n",
    "from keras.layers import Dense\n",
    "from keras.layers import Embedding\n",
    "from keras.layers import RepeatVector\n",
    "from keras.layers import TimeDistributed\n",
    "from keras.callbacks import ModelCheckpoint\n",
    "\n",
    "from nltk.translate.bleu_score import corpus_bleu\n",
    "import matplotlib.pyplot as plt\n",
    "import re\n",
    "from unicodedata import normalize\n",
    "import string\n",
    "import pickle\n",
    "import random"
   ]
  },
  {
   "cell_type": "markdown",
   "metadata": {},
   "source": [
    "### Data Pre-processing ###"
   ]
  },
  {
   "cell_type": "code",
   "execution_count": 5,
   "metadata": {},
   "outputs": [],
   "source": [
    "# Load the file to preprocess\n",
    "def load_file(filename):\n",
    "    '''Function to load file'''\n",
    "    file = open(filename, mode='rt', encoding='utf-8')\n",
    "    text = file.read()\n",
    "    file.close()\n",
    "    return text\n",
    "\n",
    "def getPairs(text):\n",
    "    '''Function to get eng-german keyword pairs from input text'''\n",
    "    pairs = [line.strip().split('\\t') for line in text.strip().split('\\n')]\n",
    "    return pairs\n",
    "\n",
    "def cleanPairs(lines):\n",
    "    '''Function to clean the eng-german keyword pair list and removing unprintable chars'''\n",
    "    cleaned = list()\n",
    "    # Regex for char filtering\n",
    "    re_print = re.compile('[^%s]' % re.escape(string.printable))\n",
    "    table = str.maketrans('', '', string.punctuation)\n",
    "    for pair in lines:\n",
    "        clean_pair = list()\n",
    "        for line in pair:\n",
    "#             print(\"line0: {0}\".format(line))\n",
    "            line = normalize('NFD', line).encode('ascii', 'ignore')\n",
    "#             print(\"line1: {0}\".format(line))\n",
    "            line = line.decode('UTF-8')\n",
    "            line = line.split()\n",
    "#             print(\"line2: {0}\".format(line))\n",
    "            line = [word.lower() for word in line]\n",
    "            line = [word.translate(table) for word in line]\n",
    "#             print(\"line22: {0}\".format(line))\n",
    "            line = [re_print.sub('', word) for word in line]\n",
    "            # Remove numeric chrs\n",
    "            line = [w for w in line if w.isalpha()]\n",
    "#             print(\"line3: {0}\".format(line))\n",
    "            clean_pair.append(' '.join(line))\n",
    "        cleaned.append(clean_pair)\n",
    "    return np.array(cleaned)\n",
    "\n",
    "# Save the cleaned data to the given filename\n",
    "def save_data(sentences, filename):\n",
    "    '''Function to save save the file in pickle format'''\n",
    "    pickle.dump(sentences, open(filename, 'wb'))\n",
    "    print('Saved: %s' % filename)"
   ]
  },
  {
   "cell_type": "code",
   "execution_count": 7,
   "metadata": {},
   "outputs": [
    {
     "name": "stdout",
     "output_type": "stream",
     "text": [
      "Saved: english-german.pickle\n"
     ]
    }
   ],
   "source": [
    "filename = 'deu.txt'\n",
    "file = load_file(filename)\n",
    "pairs = getPairs(file)\n",
    "cleaned_pairs = cleanPairs(pairs)\n",
    "save_data(cleaned_pairs, 'english-german.pickle')"
   ]
  },
  {
   "cell_type": "code",
   "execution_count": 8,
   "metadata": {},
   "outputs": [
    {
     "data": {
      "text/plain": [
       "169813"
      ]
     },
     "execution_count": 8,
     "metadata": {},
     "output_type": "execute_result"
    }
   ],
   "source": [
    "len(cleaned_pairs)"
   ]
  },
  {
   "cell_type": "markdown",
   "metadata": {},
   "source": [
    "### Creating train/validation/test datasets ###"
   ]
  },
  {
   "cell_type": "code",
   "execution_count": 9,
   "metadata": {},
   "outputs": [],
   "source": [
    "def load_pkl_data(filename):\n",
    "    '''Function to load pickle file'''\n",
    "    file = open(filename, 'rb')\n",
    "    return pickle.load(file)"
   ]
  },
  {
   "cell_type": "code",
   "execution_count": 10,
   "metadata": {},
   "outputs": [
    {
     "name": "stdout",
     "output_type": "stream",
     "text": [
      "Saved: english-german-both.pickle\n",
      "Saved: english-german-train.pickle\n",
      "Saved: english-german-test.pickle\n"
     ]
    }
   ],
   "source": [
    "raw_data = load_pkl_data('english-german.pickle')\n",
    "\n",
    "dataset = raw_data[:10000, :]\n",
    "random.shuffle(dataset)\n",
    "\n",
    "train_set = dataset[:9000, :]\n",
    "test_set = dataset[9000:, :]\n",
    "\n",
    "save_data(dataset, 'english-german-both.pickle')\n",
    "save_data(train_set, 'english-german-train.pickle')\n",
    "save_data(test_set, 'english-german-test.pickle')"
   ]
  },
  {
   "cell_type": "markdown",
   "metadata": {},
   "source": [
    "### Encoding the input/output & model training ###"
   ]
  },
  {
   "cell_type": "code",
   "execution_count": 54,
   "metadata": {},
   "outputs": [],
   "source": [
    "# fit a tokenizer\n",
    "def create_tokenizer(lines):\n",
    "    tokenizer = Tokenizer()\n",
    "    tokenizer.fit_on_texts(lines)\n",
    "    return tokenizer\n",
    "\n",
    "# max sentence length\n",
    "def max_length(lines):\n",
    "    return max(len(line.split()) for line in lines)\n",
    "\n",
    "# encode and pad sequences\n",
    "def encode_sequences(tokenizer, length, lines):\n",
    "    # integer encode sequences\n",
    "    X = tokenizer.texts_to_sequences(lines)\n",
    "    # pad sequences with 0 values\n",
    "    X = pad_sequences(X, maxlen=length, padding='post')\n",
    "    return X\n",
    "\n",
    "# one hot encode target sequence\n",
    "def encode_output(sequences, vocab_size):\n",
    "    ylist = list()\n",
    "    for sequence in sequences:\n",
    "        encoded = to_categorical(sequence, num_classes=vocab_size)\n",
    "        ylist.append(encoded)\n",
    "    y = np.array(ylist)\n",
    "    y = y.reshape(sequences.shape[0], sequences.shape[1], vocab_size)\n",
    "    return y\n",
    "\n",
    "# Map an integer to a word\n",
    "def map_int_to_word(integer, tokenizer):\n",
    "    for word, index in tokenizer.word_index.items():\n",
    "        if index == integer:\n",
    "            return word\n",
    "    return None\n",
    "\n",
    "# Predict the target sequence\n",
    "def predict_sequence(model, tokenizer, source):\n",
    "    pred = model.predict(source, verbose=0)[0]\n",
    "    integers = [np.argmax(vector) for vector in pred]\n",
    "    target = list()\n",
    "    for i in integers:\n",
    "        word = map_int_to_word(i, tokenizer)\n",
    "        if word is None:\n",
    "            break\n",
    "        target.append(word)\n",
    "    return ' '.join(target)\n",
    "\n",
    "# Evaluate the model\n",
    "def evaluate_model(model, tokenizer, source, raw_dataset, cutoff_length=2):\n",
    "    predicted, actual = list(), list()\n",
    "    cnt = 0\n",
    "    for i, sentence in enumerate(source):\n",
    "        raw_target, raw_source = raw_dataset[i]\n",
    "        if(len(raw_target.split()) < cutoff_length):\n",
    "            continue\n",
    "        s = sentence.reshape((1, sentence.shape[0]))\n",
    "        translation = predict_sequence(model, tokenizer, s)\n",
    "        if cnt < 10:\n",
    "            print('src=[%s], target=[%s], predicted=[%s]' % (raw_source, raw_target, translation))\n",
    "        actual.append(raw_target.split())\n",
    "        predicted.append(translation.split())\n",
    "        cnt += 1\n",
    "\n",
    "    # Bleu Scores\n",
    "    print('Bleu-1: %f' % corpus_bleu(actual, predicted, weights=(1.0, 0, 0, 0)))\n",
    "    print('Bleu-2: %f' % corpus_bleu(actual, predicted, weights=(0.5, 0.5, 0, 0)))\n",
    "    print('Bleu-3: %f' % corpus_bleu(actual, predicted, weights=(0.3, 0.3, 0.3, 0)))\n",
    "    print('Bleu-4: %f' % corpus_bleu(actual, predicted, weights=(0.25, 0.25, 0.25, 0.25)))\n",
    "\n",
    "# define NMT model\n",
    "def define_model(src_vocab, tar_vocab, src_timesteps, tar_timesteps, n_units):\n",
    "    model = Sequential()\n",
    "    model.add(Embedding(src_vocab, n_units, input_length=src_timesteps, mask_zero=True))\n",
    "    model.add(LSTM(n_units))\n",
    "    model.add(RepeatVector(tar_timesteps))\n",
    "    model.add(LSTM(n_units, return_sequences=True))\n",
    "    model.add(TimeDistributed(Dense(tar_vocab, activation='softmax')))\n",
    "    return model"
   ]
  },
  {
   "cell_type": "code",
   "execution_count": 12,
   "metadata": {},
   "outputs": [],
   "source": [
    "class PlotLearning(keras.callbacks.Callback):\n",
    "    '''Class to plot live training loss'''\n",
    "    def on_train_begin(self, logs={}):\n",
    "        self.i = 0\n",
    "        self.x = []\n",
    "        self.losses = []\n",
    "        self.val_losses = []\n",
    "        self.acc = []\n",
    "        self.val_acc = []\n",
    "        self.fig = plt.figure()\n",
    "        self.logs = []\n",
    "\n",
    "    def on_epoch_end(self, epoch, logs={}):\n",
    "        self.logs.append(logs)\n",
    "        self.x.append(self.i)\n",
    "        self.losses.append(logs.get('loss'))\n",
    "        self.val_losses.append(logs.get('val_loss'))\n",
    "        # self.acc.append(logs.get('acc'))\n",
    "        # self.val_acc.append(logs.get('val_acc'))\n",
    "        self.i += 1\n",
    "        f, ax1 = plt.subplots(1, 1, sharex=True, figsize=(10,6))\n",
    "        clear_output(wait=True)\n",
    "\n",
    "        ax1.plot(self.x, self.losses, label=\"loss\")\n",
    "        ax1.plot(self.x, self.val_losses, label=\"val_loss\")\n",
    "        ax1.legend()\n",
    "        plt.show()"
   ]
  },
  {
   "cell_type": "code",
   "execution_count": 13,
   "metadata": {},
   "outputs": [
    {
     "name": "stdout",
     "output_type": "stream",
     "text": [
      "English Vocabulary Size: 1564\n",
      "English Max Length: 5\n",
      "German Vocabulary Size: 2393\n",
      "German Max Length: 8\n",
      "WARNING:tensorflow:From C:\\Users\\Z0042ZRF\\AppData\\Local\\Continuum\\anaconda3\\lib\\site-packages\\tensorflow\\python\\framework\\op_def_library.py:263: colocate_with (from tensorflow.python.framework.ops) is deprecated and will be removed in a future version.\n",
      "Instructions for updating:\n",
      "Colocations handled automatically by placer.\n",
      "_________________________________________________________________\n",
      "Layer (type)                 Output Shape              Param #   \n",
      "=================================================================\n",
      "embedding_1 (Embedding)      (None, 8, 256)            612608    \n",
      "_________________________________________________________________\n",
      "lstm_1 (LSTM)                (None, 256)               525312    \n",
      "_________________________________________________________________\n",
      "repeat_vector_1 (RepeatVecto (None, 5, 256)            0         \n",
      "_________________________________________________________________\n",
      "lstm_2 (LSTM)                (None, 5, 256)            525312    \n",
      "_________________________________________________________________\n",
      "time_distributed_1 (TimeDist (None, 5, 1564)           401948    \n",
      "=================================================================\n",
      "Total params: 2,065,180\n",
      "Trainable params: 2,065,180\n",
      "Non-trainable params: 0\n",
      "_________________________________________________________________\n",
      "None\n"
     ]
    }
   ],
   "source": [
    "# load datasets\n",
    "dataset = load_pkl_data('english-german-both.pickle')\n",
    "train = load_pkl_data('english-german-train.pickle')\n",
    "test = load_pkl_data('english-german-test.pickle')\n",
    "\n",
    "# prepare english tokenizer\n",
    "eng_tokenizer = create_tokenizer(dataset[:, 0])\n",
    "eng_vocab_size = len(eng_tokenizer.word_index) + 1\n",
    "eng_length = max_length(dataset[:, 0])\n",
    "print('English Vocabulary Size: %d' % eng_vocab_size)\n",
    "print('English Max Length: %d' % (eng_length))\n",
    "\n",
    "# prepare german tokenizer\n",
    "ger_tokenizer = create_tokenizer(dataset[:, 1])\n",
    "ger_vocab_size = len(ger_tokenizer.word_index) + 1\n",
    "ger_length = max_length(dataset[:, 1])\n",
    "print('German Vocabulary Size: %d' % ger_vocab_size)\n",
    "print('German Max Length: %d' % (ger_length))\n",
    "\n",
    "# prepare training data\n",
    "trainX = encode_sequences(ger_tokenizer, ger_length, train[:, 1])\n",
    "trainY = encode_sequences(eng_tokenizer, eng_length, train[:, 0])\n",
    "trainY = encode_output(trainY, eng_vocab_size)\n",
    "\n",
    "# prepare validation data\n",
    "testX = encode_sequences(ger_tokenizer, ger_length, test[:, 1])\n",
    "testY = encode_sequences(eng_tokenizer, eng_length, test[:, 0])\n",
    "testY = encode_output(testY, eng_vocab_size)\n",
    "\n",
    "# define model\n",
    "model = define_model(ger_vocab_size, eng_vocab_size, ger_length, eng_length, 256)\n",
    "model.compile(optimizer='adam', loss='categorical_crossentropy')\n",
    "# summarize defined model\n",
    "print(model.summary())\n",
    "# plot_model(model, to_file='model.png', show_shapes=True)\n",
    "# fit model"
   ]
  },
  {
   "cell_type": "code",
   "execution_count": 14,
   "metadata": {},
   "outputs": [
    {
     "data": {
      "image/png": "[encoded data removed]",
      "text/plain": [
       "<Figure size 720x432 with 1 Axes>"
      ]
     },
     "metadata": {
      "needs_background": "light"
     },
     "output_type": "display_data"
    },
    {
     "data": {
      "text/plain": [
       "<keras.callbacks.History at 0x218d729d0f0>"
      ]
     },
     "execution_count": 14,
     "metadata": {},
     "output_type": "execute_result"
    }
   ],
   "source": [
    "filename = 'model.h5'\n",
    "checkpoint = ModelCheckpoint(filename, monitor='val_loss', verbose=1, save_best_only=True, mode='min')\n",
    "model.fit(trainX, trainY, epochs=30, batch_size=64, validation_data=(testX, testY), callbacks=[checkpoint, PlotLearning()], verbose=2)"
   ]
  },
  {
   "cell_type": "markdown",
   "metadata": {},
   "source": [
    "### Evaluating the model ###"
   ]
  },
  {
   "cell_type": "code",
   "execution_count": 21,
   "metadata": {},
   "outputs": [
    {
     "data": {
      "text/plain": [
       "array([['hi', 'hallo'],\n",
       "       ['hi', 'gru gott'],\n",
       "       ['run', 'lauf'],\n",
       "       ['hi', 'hallo'],\n",
       "       ['hi', 'hallo'],\n",
       "       ['hi', 'gru gott'],\n",
       "       ['hi', 'gru gott'],\n",
       "       ['hi', 'hallo'],\n",
       "       ['hi', 'hallo'],\n",
       "       ['go on', 'mach weiter']], dtype='<U291')"
      ]
     },
     "execution_count": 21,
     "metadata": {},
     "output_type": "execute_result"
    }
   ],
   "source": [
    "train[:10]"
   ]
  },
  {
   "cell_type": "code",
   "execution_count": 20,
   "metadata": {},
   "outputs": [
    {
     "data": {
      "text/plain": [
       "array([[ 99,   0,   0,   0,   0,   0,   0,   0],\n",
       "       [426, 298,   0,   0,   0,   0,   0,   0],\n",
       "       [299,   0,   0,   0,   0,   0,   0,   0],\n",
       "       [ 99,   0,   0,   0,   0,   0,   0,   0],\n",
       "       [ 99,   0,   0,   0,   0,   0,   0,   0],\n",
       "       [426, 298,   0,   0,   0,   0,   0,   0],\n",
       "       [426, 298,   0,   0,   0,   0,   0,   0],\n",
       "       [ 99,   0,   0,   0,   0,   0,   0,   0],\n",
       "       [ 99,   0,   0,   0,   0,   0,   0,   0],\n",
       "       [ 28,  86,   0,   0,   0,   0,   0,   0]])"
      ]
     },
     "execution_count": 20,
     "metadata": {},
     "output_type": "execute_result"
    }
   ],
   "source": [
    "trainX[:10]"
   ]
  },
  {
   "cell_type": "code",
   "execution_count": 47,
   "metadata": {},
   "outputs": [
    {
     "data": {
      "text/plain": [
       "array(['hi', 'gru gott'], dtype='<U291')"
      ]
     },
     "execution_count": 47,
     "metadata": {},
     "output_type": "execute_result"
    }
   ],
   "source": [
    "raw_data[1]"
   ]
  },
  {
   "cell_type": "code",
   "execution_count": 55,
   "metadata": {},
   "outputs": [
    {
     "name": "stdout",
     "output_type": "stream",
     "text": [
      "Testing on trained examples\n",
      "src=[hallo], target=[hi], predicted=[hi]\n",
      "src=[gru gott], target=[hi], predicted=[hi]\n",
      "src=[lauf], target=[run], predicted=[run]\n",
      "src=[hallo], target=[hi], predicted=[hi]\n",
      "src=[hallo], target=[hi], predicted=[hi]\n",
      "src=[gru gott], target=[hi], predicted=[hi]\n",
      "src=[gru gott], target=[hi], predicted=[hi]\n",
      "src=[hallo], target=[hi], predicted=[hi]\n",
      "src=[hallo], target=[hi], predicted=[hi]\n",
      "src=[mach weiter], target=[go on], predicted=[go on]\n",
      "Bleu-1: 0.067523\n",
      "Bleu-2: 0.000000\n",
      "Bleu-3: 0.000000\n",
      "Bleu-4: 0.000000\n"
     ]
    }
   ],
   "source": [
    "print('Testing on trained examples')\n",
    "evaluate_model(model, eng_tokenizer, trainX, train, 1)"
   ]
  },
  {
   "cell_type": "markdown",
   "metadata": {},
   "source": [
    "###### For cutoff length = 2"
   ]
  },
  {
   "cell_type": "code",
   "execution_count": 58,
   "metadata": {},
   "outputs": [
    {
     "name": "stdout",
     "output_type": "stream",
     "text": [
      "Testing on test examples\n",
      "src=[tom fiel], target=[tom fell], predicted=[tom fell]\n",
      "src=[wo ist tom], target=[wheres tom], predicted=[wheres tom]\n",
      "src=[ich habe einen lkw], target=[i have a truck], predicted=[i have a truck]\n",
      "src=[raus aus den federn], target=[get out of bed], predicted=[get get the]\n",
      "src=[vielleicht regnet es], target=[it may rain], predicted=[it may rain]\n",
      "src=[mir ist zum weinen zumute], target=[i want to cry], predicted=[hes very bored]\n",
      "src=[tom ist gemein], target=[toms mean], predicted=[tom is mean]\n",
      "src=[das wird ein spa], target=[thisll be fun], predicted=[nobody enjoy]\n",
      "src=[sie ist auf diat], target=[shes dieting], predicted=[theyre hard]\n",
      "src=[fangen wir an], target=[lets begin], predicted=[lets begin]\n",
      "Bleu-1: 0.070420\n",
      "Bleu-2: 0.000000\n",
      "Bleu-3: 0.000000\n",
      "Bleu-4: 0.000000\n"
     ]
    }
   ],
   "source": [
    "print('Testing on test examples')\n",
    "evaluate_model(model, eng_tokenizer, testX, test, 2)"
   ]
  },
  {
   "cell_type": "markdown",
   "metadata": {},
   "source": [
    "###### For cutoff length = 4"
   ]
  },
  {
   "cell_type": "code",
   "execution_count": 60,
   "metadata": {},
   "outputs": [
    {
     "name": "stdout",
     "output_type": "stream",
     "text": [
      "Testing on test examples\n",
      "src=[ich habe einen lkw], target=[i have a truck], predicted=[i have a truck]\n",
      "src=[raus aus den federn], target=[get out of bed], predicted=[get get the]\n",
      "src=[mir ist zum weinen zumute], target=[i want to cry], predicted=[hes very bored]\n",
      "src=[darf ich dich kussen], target=[can i kiss you], predicted=[can i hear you]\n",
      "src=[machs wie du es fur richtig haltst], target=[do as you want], predicted=[do as you want]\n",
      "src=[sie ist gerade auer haus], target=[she is out now], predicted=[she is a]\n",
      "src=[hol mir mal meine werkzeugkiste], target=[get my tool box], predicted=[get me me]\n",
      "src=[ich bin lehrerin], target=[i am a teacher], predicted=[im healthy]\n",
      "src=[ich bin auf dem dach], target=[im on the roof], predicted=[im not by bus]\n",
      "src=[das ist ein zeichen], target=[this is a sign], predicted=[thats a fake]\n",
      "Bleu-1: 0.162406\n",
      "Bleu-2: 0.000000\n",
      "Bleu-3: 0.000000\n",
      "Bleu-4: 0.000000\n"
     ]
    }
   ],
   "source": [
    "print('Testing on test examples')\n",
    "evaluate_model(model, eng_tokenizer, testX, test, 4)"
   ]
  },
  {
   "cell_type": "markdown",
   "metadata": {},
   "source": [
    "###### For cutoff length = 5"
   ]
  },
  {
   "cell_type": "code",
   "execution_count": 61,
   "metadata": {},
   "outputs": [
    {
     "name": "stdout",
     "output_type": "stream",
     "text": [
      "Testing on test examples\n",
      "src=[das mussen sie wissen], target=[it is up to you], predicted=[we want to]\n",
      "src=[er hat einen hut auf], target=[he has a hat on], predicted=[he looks in]\n",
      "src=[ich sage tue es], target=[i say go for it], predicted=[i can you it]\n",
      "src=[ich war auf einem fahrrad], target=[i was on a bike], predicted=[i was at home]\n",
      "src=[das hangt von dir ab], target=[it is up to you], predicted=[its on to us]\n",
      "Bleu-1: 0.111111\n",
      "Bleu-2: 0.000000\n",
      "Bleu-3: 0.000000\n",
      "Bleu-4: 0.000000\n"
     ]
    }
   ],
   "source": [
    "print('Testing on test examples')\n",
    "evaluate_model(model, eng_tokenizer, testX, test, 5)"
   ]
  },
  {
   "cell_type": "markdown",
   "metadata": {},
   "source": [
    "- It can be seen as we increase the size of the input phrase, the BLEU score decreases. Hence, we can look at attention mechanisms for improvement."
   ]
  },
  {
   "cell_type": "code",
   "execution_count": null,
   "metadata": {},
   "outputs": [],
   "source": []
  }
 ],
 "metadata": {
  "kernelspec": {
   "display_name": "Python 3",
   "language": "python",
   "name": "python3"
  },
  "language_info": {
   "codemirror_mode": {
    "name": "ipython",
    "version": 3
   },
   "file_extension": ".py",
   "mimetype": "text/x-python",
   "name": "python",
   "nbconvert_exporter": "python",
   "pygments_lexer": "ipython3",
   "version": "3.7.3"
  }
 },
 "nbformat": 4,
 "nbformat_minor": 2
}
